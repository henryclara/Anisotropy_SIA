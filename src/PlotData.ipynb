{
 "cells": [
  {
   "cell_type": "code",
   "execution_count": 1,
   "id": "34aa6020",
   "metadata": {},
   "outputs": [],
   "source": [
    "import numpy as np\n",
    "import matplotlib.pyplot as plt\n",
    "import pandas as pd\n",
    "import scipy.interpolate\n",
    "from shapely.geometry import Point\n",
    "from shapely.geometry.polygon import Polygon\n"
   ]
  },
  {
   "cell_type": "code",
   "execution_count": 2,
   "id": "e553c071",
   "metadata": {
    "scrolled": true
   },
   "outputs": [],
   "source": [
    "data_bed = pd.read_csv('../data/HIR_BedElevation_Bedmachine.csv', delimiter=' ')\n",
    "data_GL = pd.read_csv('../data/HIR_GL.csv', delim_whitespace=True)\n",
    "data_surf = pd.read_csv('../data/HIR_SurfaceElevation_REMA.csv', delimiter=' ')\n",
    "data_vel = pd.read_csv('../data/HIR_SurfaceVelocity.csv', delim_whitespace=True)\n"
   ]
  },
  {
   "cell_type": "code",
   "execution_count": 3,
   "id": "c2795718",
   "metadata": {},
   "outputs": [],
   "source": [
    "data_surf = data_surf.iloc[::10, :]\n",
    "\n",
    "data_surf = data_surf.reset_index()"
   ]
  },
  {
   "cell_type": "code",
   "execution_count": 4,
   "id": "59a4dcbf",
   "metadata": {},
   "outputs": [
    {
     "data": {
      "text/plain": [
       "5138955"
      ]
     },
     "execution_count": 4,
     "metadata": {},
     "output_type": "execute_result"
    }
   ],
   "source": [
    "len(data_surf)"
   ]
  },
  {
   "cell_type": "code",
   "execution_count": 5,
   "id": "20c4612b",
   "metadata": {},
   "outputs": [
    {
     "data": {
      "text/plain": [
       "5138955"
      ]
     },
     "execution_count": 5,
     "metadata": {},
     "output_type": "execute_result"
    }
   ],
   "source": [
    "min(data_surf['X']), max(data_surf['X'])\n",
    "len(data_surf['X'])"
   ]
  },
  {
   "cell_type": "code",
   "execution_count": 6,
   "id": "1bd957de",
   "metadata": {},
   "outputs": [
    {
     "data": {
      "text/plain": [
       "numpy.ndarray"
      ]
     },
     "execution_count": 6,
     "metadata": {},
     "output_type": "execute_result"
    }
   ],
   "source": [
    "xmin, xmax = 770000, 825000\n",
    "ymin, ymax = 1960000, 2020000\n",
    "nx, ny = int((xmax - xmin)/1000 + 1), int((ymax - ymin)/1000 + 1)\n",
    "\n",
    "x = np.linspace(xmin, xmax, nx)\n",
    "y = np.linspace(ymin, ymax, ny)\n",
    "grid_x, grid_y = np.meshgrid(x, y)\n",
    "surf = scipy.interpolate.griddata((data_surf[\"X\"], data_surf[\"Y\"]), data_surf[\"surf\"], (grid_x, grid_y), method='linear')\n",
    "\n",
    "type(surf)"
   ]
  },
  {
   "cell_type": "code",
   "execution_count": null,
   "id": "d1ef3252",
   "metadata": {},
   "outputs": [],
   "source": []
  },
  {
   "cell_type": "code",
   "execution_count": null,
   "id": "5b0b1754",
   "metadata": {},
   "outputs": [],
   "source": [
    "data_GL_reduced = data_GL.loc[56:141]\n",
    "new_row = pd.DataFrame({'X':data_GL['X'][56], 'Y':data_GL['Y'][141]}, index=[0])\n",
    "data_GL_reduced_extra_point = pd.concat([new_row,data_GL_reduced.loc[:]]).reset_index(drop=True)\n",
    "\n",
    "poly = Polygon(zip(list(data_GL_reduced_extra_point['X']), list(data_GL_reduced_extra_point['Y'])))\n",
    "\n",
    "point = Point(825000, 2020000)\n",
    "#print(polygon.contains(point))\n",
    "\n",
    "for i in range(len(data_surf)):\n",
    "    boolean = poly.contains(Point(data_surf['X'][i], data_surf['Y'][i]))\n",
    "    if boolean == False:\n",
    "        data_surf = data_surf.drop(i)\n",
    "\n",
    "#data_surf = data_surf[poly.contains(Point(list(data_surf['X']), list(data_surf['Y'])))]\n",
    "\n"
   ]
  },
  {
   "cell_type": "code",
   "execution_count": null,
   "id": "39a56e9b",
   "metadata": {},
   "outputs": [],
   "source": []
  },
  {
   "cell_type": "code",
   "execution_count": null,
   "id": "b2b49f02",
   "metadata": {},
   "outputs": [],
   "source": [
    "boolean"
   ]
  },
  {
   "cell_type": "code",
   "execution_count": null,
   "id": "27f05ed3",
   "metadata": {},
   "outputs": [],
   "source": [
    "fig, ax = plt.subplots(1, 1)\n",
    "CS = ax.contourf(grid_x, grid_y, surf, 100)\n",
    "ax.plot(data_GL_reduced['X'], data_GL_reduced['Y'], color='black')\n",
    "cbar = fig.colorbar(CS)"
   ]
  },
  {
   "cell_type": "code",
   "execution_count": null,
   "id": "fc625684",
   "metadata": {},
   "outputs": [],
   "source": [
    "fig, ax = plt.subplots()\n",
    "ax.plot(data_GL['X'][23:], data_GL['Y'][23:], color='red')"
   ]
  },
  {
   "cell_type": "code",
   "execution_count": null,
   "id": "bfa31924",
   "metadata": {},
   "outputs": [],
   "source": []
  },
  {
   "cell_type": "code",
   "execution_count": null,
   "id": "8048474f",
   "metadata": {},
   "outputs": [],
   "source": []
  },
  {
   "cell_type": "code",
   "execution_count": null,
   "id": "1c8a3586",
   "metadata": {},
   "outputs": [],
   "source": []
  }
 ],
 "metadata": {
  "kernelspec": {
   "display_name": "Python 3 (ipykernel)",
   "language": "python",
   "name": "python3"
  },
  "language_info": {
   "codemirror_mode": {
    "name": "ipython",
    "version": 3
   },
   "file_extension": ".py",
   "mimetype": "text/x-python",
   "name": "python",
   "nbconvert_exporter": "python",
   "pygments_lexer": "ipython3",
   "version": "3.9.13"
  }
 },
 "nbformat": 4,
 "nbformat_minor": 5
}
